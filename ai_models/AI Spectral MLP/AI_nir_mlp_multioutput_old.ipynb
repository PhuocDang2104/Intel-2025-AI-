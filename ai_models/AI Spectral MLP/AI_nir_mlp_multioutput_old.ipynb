{
 "cells": [
  {
   "cell_type": "markdown",
   "id": "d49d3e2d",
   "metadata": {},
   "source": [
    "# NIR Spectral Analysis with AS7263 \n",
    "A clean, step-by-step notebook to:\n",
    "1. Load & visualize spectral data\n",
    "2. Preprocess inputs & encode outputs\n",
    "3. Build & visualize Conv1D → MLP multi-output model\n",
    "4. Train & plot learning curves\n",
    "5. Evaluate & save final model\n",
    "\n",
    "**Input include:**\n",
    "- 6-dimensional Vector NIR Spectral: [610nm, 680nm, 730nm, 760nm, 810nm, 860nm]\n",
    "\n",
    "**Outputs include:**\n",
    "- °Brix (regression)\n",
    "- Ripeness (regression)\n",
    "- Moisture content (regression)\n",
    "- Grade (A/B/C classification)\n",
    "- Internal defect (Y/N)\n",
    "- Disease or fungal infection (Y/N)"
   ]
  },
  {
   "cell_type": "code",
   "execution_count": 1,
   "id": "2170a00d",
   "metadata": {},
   "outputs": [
    {
     "name": "stderr",
     "output_type": "stream",
     "text": [
      "\n",
      "[notice] A new release of pip is available: 24.0 -> 25.1.1\n",
      "[notice] To update, run: python.exe -m pip install --upgrade pip\n"
     ]
    },
    {
     "name": "stdout",
     "output_type": "stream",
     "text": [
      "Requirement already satisfied: scikit-learn in c:\\users\\admin\\desktop\\intel 2025 ai\\venv\\lib\\site-packages (1.7.0)\n",
      "Requirement already satisfied: numpy>=1.22.0 in c:\\users\\admin\\desktop\\intel 2025 ai\\venv\\lib\\site-packages (from scikit-learn) (1.26.4)\n",
      "Requirement already satisfied: scipy>=1.8.0 in c:\\users\\admin\\desktop\\intel 2025 ai\\venv\\lib\\site-packages (from scikit-learn) (1.16.0)\n",
      "Requirement already satisfied: joblib>=1.2.0 in c:\\users\\admin\\desktop\\intel 2025 ai\\venv\\lib\\site-packages (from scikit-learn) (1.5.1)\n",
      "Requirement already satisfied: threadpoolctl>=3.1.0 in c:\\users\\admin\\desktop\\intel 2025 ai\\venv\\lib\\site-packages (from scikit-learn) (3.6.0)\n"
     ]
    },
    {
     "name": "stderr",
     "output_type": "stream",
     "text": [
      "\n",
      "[notice] A new release of pip is available: 24.0 -> 25.1.1\n",
      "[notice] To update, run: python.exe -m pip install --upgrade pip\n",
      "\n",
      "[notice] A new release of pip is available: 24.0 -> 25.1.1\n",
      "[notice] To update, run: python.exe -m pip install --upgrade pip\n"
     ]
    },
    {
     "name": "stdout",
     "output_type": "stream",
     "text": [
      "Requirement already satisfied: seaborn in c:\\users\\admin\\desktop\\intel 2025 ai\\venv\\lib\\site-packages (0.13.2)\n",
      "Requirement already satisfied: numpy!=1.24.0,>=1.20 in c:\\users\\admin\\desktop\\intel 2025 ai\\venv\\lib\\site-packages (from seaborn) (1.26.4)\n",
      "Requirement already satisfied: pandas>=1.2 in c:\\users\\admin\\desktop\\intel 2025 ai\\venv\\lib\\site-packages (from seaborn) (2.3.0)\n",
      "Requirement already satisfied: matplotlib!=3.6.1,>=3.4 in c:\\users\\admin\\desktop\\intel 2025 ai\\venv\\lib\\site-packages (from seaborn) (3.10.3)\n",
      "Requirement already satisfied: contourpy>=1.0.1 in c:\\users\\admin\\desktop\\intel 2025 ai\\venv\\lib\\site-packages (from matplotlib!=3.6.1,>=3.4->seaborn) (1.3.2)\n",
      "Requirement already satisfied: cycler>=0.10 in c:\\users\\admin\\desktop\\intel 2025 ai\\venv\\lib\\site-packages (from matplotlib!=3.6.1,>=3.4->seaborn) (0.12.1)\n",
      "Requirement already satisfied: fonttools>=4.22.0 in c:\\users\\admin\\desktop\\intel 2025 ai\\venv\\lib\\site-packages (from matplotlib!=3.6.1,>=3.4->seaborn) (4.58.4)\n",
      "Requirement already satisfied: kiwisolver>=1.3.1 in c:\\users\\admin\\desktop\\intel 2025 ai\\venv\\lib\\site-packages (from matplotlib!=3.6.1,>=3.4->seaborn) (1.4.8)\n",
      "Requirement already satisfied: packaging>=20.0 in c:\\users\\admin\\desktop\\intel 2025 ai\\venv\\lib\\site-packages (from matplotlib!=3.6.1,>=3.4->seaborn) (25.0)\n",
      "Requirement already satisfied: pillow>=8 in c:\\users\\admin\\desktop\\intel 2025 ai\\venv\\lib\\site-packages (from matplotlib!=3.6.1,>=3.4->seaborn) (11.2.1)\n",
      "Requirement already satisfied: pyparsing>=2.3.1 in c:\\users\\admin\\desktop\\intel 2025 ai\\venv\\lib\\site-packages (from matplotlib!=3.6.1,>=3.4->seaborn) (3.2.3)\n",
      "Requirement already satisfied: python-dateutil>=2.7 in c:\\users\\admin\\desktop\\intel 2025 ai\\venv\\lib\\site-packages (from matplotlib!=3.6.1,>=3.4->seaborn) (2.9.0.post0)\n",
      "Requirement already satisfied: pytz>=2020.1 in c:\\users\\admin\\desktop\\intel 2025 ai\\venv\\lib\\site-packages (from pandas>=1.2->seaborn) (2025.2)\n",
      "Requirement already satisfied: tzdata>=2022.7 in c:\\users\\admin\\desktop\\intel 2025 ai\\venv\\lib\\site-packages (from pandas>=1.2->seaborn) (2025.2)\n",
      "Requirement already satisfied: six>=1.5 in c:\\users\\admin\\desktop\\intel 2025 ai\\venv\\lib\\site-packages (from python-dateutil>=2.7->matplotlib!=3.6.1,>=3.4->seaborn) (1.17.0)\n"
     ]
    }
   ],
   "source": [
    "!pip install -q tensorflow\n",
    "!pip install scikit-learn\n",
    "!pip install seaborn\n",
    "\n",
    "\n",
    "import pandas as pd\n",
    "import numpy as np\n",
    "import matplotlib.pyplot as plt\n",
    "import pydot\n",
    "import graphviz\n",
    "from sklearn.model_selection import train_test_split\n",
    "from sklearn.preprocessing import StandardScaler, OneHotEncoder\n",
    "import tensorflow as tf\n",
    "from tensorflow.keras import Model\n",
    "from tensorflow.keras.layers import Input, Conv1D, Flatten, Dense\n",
    "from tensorflow.keras.utils import plot_model\n"
   ]
  },
  {
   "cell_type": "markdown",
   "id": "3ed8dbdf",
   "metadata": {},
   "source": [
    "## 1. Load Dataset & Initial Visualization"
   ]
  },
  {
   "cell_type": "code",
   "execution_count": 2,
   "id": "b7221d54",
   "metadata": {},
   "outputs": [
    {
     "name": "stdout",
     "output_type": "stream",
     "text": [
      "📊 Dữ liệu từ file CSV:\n"
     ]
    },
    {
     "data": {
      "text/html": [
       "<div>\n",
       "<style scoped>\n",
       "    .dataframe tbody tr th:only-of-type {\n",
       "        vertical-align: middle;\n",
       "    }\n",
       "\n",
       "    .dataframe tbody tr th {\n",
       "        vertical-align: top;\n",
       "    }\n",
       "\n",
       "    .dataframe thead th {\n",
       "        text-align: right;\n",
       "    }\n",
       "</style>\n",
       "<table border=\"1\" class=\"dataframe\">\n",
       "  <thead>\n",
       "    <tr style=\"text-align: right;\">\n",
       "      <th></th>\n",
       "      <th>610nm</th>\n",
       "      <th>680nm</th>\n",
       "      <th>730nm</th>\n",
       "      <th>760nm</th>\n",
       "      <th>810nm</th>\n",
       "      <th>860nm</th>\n",
       "      <th>fruit</th>\n",
       "      <th>brix</th>\n",
       "      <th>ripeness</th>\n",
       "      <th>moisture</th>\n",
       "      <th>grade</th>\n",
       "      <th>defect</th>\n",
       "      <th>fungus</th>\n",
       "    </tr>\n",
       "  </thead>\n",
       "  <tbody>\n",
       "    <tr>\n",
       "      <th>0</th>\n",
       "      <td>0.547279</td>\n",
       "      <td>0.708255</td>\n",
       "      <td>0.616893</td>\n",
       "      <td>0.574339</td>\n",
       "      <td>0.697897</td>\n",
       "      <td>0.687423</td>\n",
       "      <td>mango</td>\n",
       "      <td>16.820563</td>\n",
       "      <td>8.698674</td>\n",
       "      <td>84.946064</td>\n",
       "      <td>A</td>\n",
       "      <td>0</td>\n",
       "      <td>0</td>\n",
       "    </tr>\n",
       "    <tr>\n",
       "      <th>1</th>\n",
       "      <td>0.526963</td>\n",
       "      <td>0.673391</td>\n",
       "      <td>0.614805</td>\n",
       "      <td>0.595130</td>\n",
       "      <td>0.690251</td>\n",
       "      <td>0.686795</td>\n",
       "      <td>mango</td>\n",
       "      <td>17.000327</td>\n",
       "      <td>9.656373</td>\n",
       "      <td>78.564644</td>\n",
       "      <td>A</td>\n",
       "      <td>1</td>\n",
       "      <td>0</td>\n",
       "    </tr>\n",
       "    <tr>\n",
       "      <th>2</th>\n",
       "      <td>0.617034</td>\n",
       "      <td>0.628717</td>\n",
       "      <td>0.607246</td>\n",
       "      <td>0.593885</td>\n",
       "      <td>0.682989</td>\n",
       "      <td>0.733241</td>\n",
       "      <td>mango</td>\n",
       "      <td>16.079962</td>\n",
       "      <td>6.843452</td>\n",
       "      <td>81.724819</td>\n",
       "      <td>A</td>\n",
       "      <td>1</td>\n",
       "      <td>0</td>\n",
       "    </tr>\n",
       "    <tr>\n",
       "      <th>3</th>\n",
       "      <td>0.550324</td>\n",
       "      <td>0.659744</td>\n",
       "      <td>0.601831</td>\n",
       "      <td>0.572734</td>\n",
       "      <td>0.693448</td>\n",
       "      <td>0.708625</td>\n",
       "      <td>mango</td>\n",
       "      <td>16.216168</td>\n",
       "      <td>7.740685</td>\n",
       "      <td>77.875151</td>\n",
       "      <td>A</td>\n",
       "      <td>0</td>\n",
       "      <td>0</td>\n",
       "    </tr>\n",
       "    <tr>\n",
       "      <th>4</th>\n",
       "      <td>0.550692</td>\n",
       "      <td>0.635439</td>\n",
       "      <td>0.585142</td>\n",
       "      <td>0.606692</td>\n",
       "      <td>0.683495</td>\n",
       "      <td>0.673626</td>\n",
       "      <td>mango</td>\n",
       "      <td>14.029002</td>\n",
       "      <td>7.971855</td>\n",
       "      <td>77.139142</td>\n",
       "      <td>B</td>\n",
       "      <td>0</td>\n",
       "      <td>0</td>\n",
       "    </tr>\n",
       "    <tr>\n",
       "      <th>...</th>\n",
       "      <td>...</td>\n",
       "      <td>...</td>\n",
       "      <td>...</td>\n",
       "      <td>...</td>\n",
       "      <td>...</td>\n",
       "      <td>...</td>\n",
       "      <td>...</td>\n",
       "      <td>...</td>\n",
       "      <td>...</td>\n",
       "      <td>...</td>\n",
       "      <td>...</td>\n",
       "      <td>...</td>\n",
       "      <td>...</td>\n",
       "    </tr>\n",
       "    <tr>\n",
       "      <th>195</th>\n",
       "      <td>0.465726</td>\n",
       "      <td>0.480648</td>\n",
       "      <td>0.542405</td>\n",
       "      <td>0.482528</td>\n",
       "      <td>0.514990</td>\n",
       "      <td>0.491469</td>\n",
       "      <td>apple</td>\n",
       "      <td>13.671143</td>\n",
       "      <td>6.060735</td>\n",
       "      <td>83.758849</td>\n",
       "      <td>B</td>\n",
       "      <td>1</td>\n",
       "      <td>0</td>\n",
       "    </tr>\n",
       "    <tr>\n",
       "      <th>196</th>\n",
       "      <td>0.436110</td>\n",
       "      <td>0.471479</td>\n",
       "      <td>0.508367</td>\n",
       "      <td>0.508740</td>\n",
       "      <td>0.519681</td>\n",
       "      <td>0.502181</td>\n",
       "      <td>apple</td>\n",
       "      <td>13.359623</td>\n",
       "      <td>5.026267</td>\n",
       "      <td>82.196164</td>\n",
       "      <td>B</td>\n",
       "      <td>1</td>\n",
       "      <td>0</td>\n",
       "    </tr>\n",
       "    <tr>\n",
       "      <th>197</th>\n",
       "      <td>0.447622</td>\n",
       "      <td>0.474899</td>\n",
       "      <td>0.494292</td>\n",
       "      <td>0.482506</td>\n",
       "      <td>0.535282</td>\n",
       "      <td>0.542151</td>\n",
       "      <td>apple</td>\n",
       "      <td>11.521417</td>\n",
       "      <td>6.433018</td>\n",
       "      <td>85.677736</td>\n",
       "      <td>C</td>\n",
       "      <td>0</td>\n",
       "      <td>1</td>\n",
       "    </tr>\n",
       "    <tr>\n",
       "      <th>198</th>\n",
       "      <td>0.460091</td>\n",
       "      <td>0.486511</td>\n",
       "      <td>0.542016</td>\n",
       "      <td>0.484893</td>\n",
       "      <td>0.550789</td>\n",
       "      <td>0.535349</td>\n",
       "      <td>apple</td>\n",
       "      <td>12.105239</td>\n",
       "      <td>5.443561</td>\n",
       "      <td>89.603591</td>\n",
       "      <td>C</td>\n",
       "      <td>0</td>\n",
       "      <td>0</td>\n",
       "    </tr>\n",
       "    <tr>\n",
       "      <th>199</th>\n",
       "      <td>0.462903</td>\n",
       "      <td>0.494267</td>\n",
       "      <td>0.514274</td>\n",
       "      <td>0.458634</td>\n",
       "      <td>0.506470</td>\n",
       "      <td>0.480698</td>\n",
       "      <td>apple</td>\n",
       "      <td>11.000000</td>\n",
       "      <td>4.818074</td>\n",
       "      <td>86.592284</td>\n",
       "      <td>C</td>\n",
       "      <td>0</td>\n",
       "      <td>0</td>\n",
       "    </tr>\n",
       "  </tbody>\n",
       "</table>\n",
       "<p>200 rows × 13 columns</p>\n",
       "</div>"
      ],
      "text/plain": [
       "        610nm     680nm     730nm     760nm     810nm     860nm  fruit  \\\n",
       "0    0.547279  0.708255  0.616893  0.574339  0.697897  0.687423  mango   \n",
       "1    0.526963  0.673391  0.614805  0.595130  0.690251  0.686795  mango   \n",
       "2    0.617034  0.628717  0.607246  0.593885  0.682989  0.733241  mango   \n",
       "3    0.550324  0.659744  0.601831  0.572734  0.693448  0.708625  mango   \n",
       "4    0.550692  0.635439  0.585142  0.606692  0.683495  0.673626  mango   \n",
       "..        ...       ...       ...       ...       ...       ...    ...   \n",
       "195  0.465726  0.480648  0.542405  0.482528  0.514990  0.491469  apple   \n",
       "196  0.436110  0.471479  0.508367  0.508740  0.519681  0.502181  apple   \n",
       "197  0.447622  0.474899  0.494292  0.482506  0.535282  0.542151  apple   \n",
       "198  0.460091  0.486511  0.542016  0.484893  0.550789  0.535349  apple   \n",
       "199  0.462903  0.494267  0.514274  0.458634  0.506470  0.480698  apple   \n",
       "\n",
       "          brix  ripeness   moisture grade  defect  fungus  \n",
       "0    16.820563  8.698674  84.946064     A       0       0  \n",
       "1    17.000327  9.656373  78.564644     A       1       0  \n",
       "2    16.079962  6.843452  81.724819     A       1       0  \n",
       "3    16.216168  7.740685  77.875151     A       0       0  \n",
       "4    14.029002  7.971855  77.139142     B       0       0  \n",
       "..         ...       ...        ...   ...     ...     ...  \n",
       "195  13.671143  6.060735  83.758849     B       1       0  \n",
       "196  13.359623  5.026267  82.196164     B       1       0  \n",
       "197  11.521417  6.433018  85.677736     C       0       1  \n",
       "198  12.105239  5.443561  89.603591     C       0       0  \n",
       "199  11.000000  4.818074  86.592284     C       0       0  \n",
       "\n",
       "[200 rows x 13 columns]"
      ]
     },
     "execution_count": 2,
     "metadata": {},
     "output_type": "execute_result"
    }
   ],
   "source": [
    "# Đường dẫn file CSV của bạn\n",
    "csv_path = \"data_nir/nir_spectral_dataset_augmented.csv\"  # 🔁 thay nếu cần\n",
    "\n",
    "# Đọc dữ liệu\n",
    "df = pd.read_csv(csv_path)\n",
    "\n",
    "# Hiển thị bảng dữ liệu\n",
    "print(\"📊 Dữ liệu từ file CSV:\")\n",
    "df.head(200)  # Hiển thị 20 dòng đầu tiên"
   ]
  },
  {
   "cell_type": "code",
   "execution_count": 3,
   "id": "212b3005",
   "metadata": {},
   "outputs": [
    {
     "data": {
      "image/png": "[encoded data removed]",
      "text/plain": [
       "<Figure size 800x500 with 1 Axes>"
      ]
     },
     "metadata": {},
     "output_type": "display_data"
    }
   ],
   "source": [
    "# Các cột phổ\n",
    "wavelengths = ['610nm', '680nm', '730nm', '760nm', '810nm', '860nm']\n",
    "wavelength_vals = [610, 680, 730, 760, 810, 860]\n",
    "\n",
    "# Tính trung bình cường độ tại mỗi bước sóng\n",
    "mean_vals = df[wavelengths].mean()\n",
    "\n",
    "# Vẽ biểu đồ phổ trung bình\n",
    "plt.figure(figsize=(8, 5))\n",
    "plt.plot(wavelength_vals, mean_vals, marker='o', linewidth=2, color='blue')\n",
    "plt.title('Average NIR Spectral Profile Across All Fruits')\n",
    "plt.xlabel('Wavelength (nm)')\n",
    "plt.ylabel('Intensity')\n",
    "plt.grid(True)\n",
    "plt.tight_layout()\n",
    "plt.show()"
   ]
  },
  {
   "cell_type": "markdown",
   "id": "10103d95",
   "metadata": {},
   "source": [
    "## 2. Preprocessing"
   ]
  },
  {
   "cell_type": "code",
   "execution_count": 4,
   "id": "fa73256e",
   "metadata": {},
   "outputs": [
    {
     "name": "stdout",
     "output_type": "stream",
     "text": [
      "Data shapes:\n",
      "X_train: (720, 9, 1)\n",
      "y_reg_train: (720, 3)\n",
      "y_grade_train: (720, 3)\n"
     ]
    }
   ],
   "source": [
    "# 1. Đặc trưng phổ NIR (6 bước sóng)\n",
    "wavelengths = ['610nm', '680nm', '730nm', '760nm', '810nm', '860nm']\n",
    "\n",
    "# 2. One-hot encode cột 'fruit'\n",
    "df = pd.get_dummies(df, columns=['fruit'])  # Tạo fruit_apple, fruit_mango, fruit_banana\n",
    "fruit_features = ['fruit_apple', 'fruit_mango', 'fruit_banana']\n",
    "\n",
    "# 3. Tạo đầu vào X: gồm phổ + one-hot fruit → (9 đặc trưng)\n",
    "X_raw = df[wavelengths + fruit_features].values\n",
    "\n",
    "# 4. Đầu ra liên tục (regression)\n",
    "y_reg = df[['brix', 'ripeness', 'moisture']].values\n",
    "\n",
    "# 5. Đầu ra phân loại\n",
    "y_cat = df[['grade', 'defect', 'fungus']].copy()\n",
    "\n",
    "# 6. One-hot encode 'grade'\n",
    "enc = OneHotEncoder(sparse_output=False)\n",
    "y_grade = enc.fit_transform(y_cat[['grade']])\n",
    "\n",
    "# 7. Encode nhị phân cho 'defect' và 'fungus'\n",
    "y_defect = y_cat['defect'].astype(int).values\n",
    "y_fungus = y_cat['fungus'].astype(int).values\n",
    "\n",
    "# 8. Scale đầu vào và reshape (samples, 9, 1) cho CNN\n",
    "scaler = StandardScaler()\n",
    "X_scaled = scaler.fit_transform(X_raw)\n",
    "X_cnn = X_scaled.reshape(-1, 9, 1)  # ← Bây giờ có 9 đặc trưng đầu vào\n",
    "\n",
    "# 9. Train-test split\n",
    "X_train, X_test, y_reg_train, y_reg_test, y_grade_train, y_grade_test, y_def_train, y_def_test, y_fun_train, y_fun_test = train_test_split(\n",
    "    X_cnn, y_reg, y_grade, y_defect, y_fungus, test_size=0.2, random_state=42\n",
    ")\n",
    "\n",
    "print('Data shapes:')\n",
    "print('X_train:', X_train.shape)\n",
    "print('y_reg_train:', y_reg_train.shape)\n",
    "print('y_grade_train:', y_grade_train.shape)"
   ]
  },
  {
   "cell_type": "markdown",
   "id": "6da9a8a1",
   "metadata": {},
   "source": [
    "## 3. Build Model"
   ]
  },
  {
   "cell_type": "code",
   "execution_count": 5,
   "id": "afeb10d5",
   "metadata": {},
   "outputs": [],
   "source": [
    "\n",
    "# Đầu vào: 9 đặc trưng gồm 6 bước sóng + 3 loại quả, reshape thành (9, 1)\n",
    "inp = Input((9, 1))  # (số đặc trưng, 1)\n",
    "\n",
    "# 🧠 Tầng Conv1D: học mối quan hệ giữa các đặc trưng (bước sóng + loại quả)\n",
    "x = Conv1D(16, kernel_size=2, activation='relu')(inp)  # (None, 8, 16)\n",
    "\n",
    "# 📉 Làm phẳng đầu ra Conv1D\n",
    "x = Flatten()(x)  # (None, 128)\n",
    "\n",
    "# 🔗 MLP layers\n",
    "x = Dense(32, activation='relu')(x)\n",
    "x = Dense(16, activation='relu')(x)\n",
    "\n",
    "# 🎯 Đầu ra hồi quy: °Brix, độ chín, độ ẩm\n",
    "reg_out = Dense(3, name='regression')(x)\n",
    "\n",
    "# 🎯 Đầu ra phân loại đa lớp: grade (A/B/C)\n",
    "grade_out = Dense(3, activation='softmax', name='grade')\n",
    "\n",
    "# 🎯 Đầu ra nhị phân: defect và fungus\n",
    "def_out = Dense(1, activation='sigmoid', name='defect')(x)\n",
    "fun_out = Dense(1, activation='sigmoid', name='fungus')(x)\n",
    "\n",
    "# 🔗 Kết hợp tất cả các nhánh\n",
    "model = Model(inputs=inp, outputs=[reg_out, grade_out(x), def_out, fun_out])"
   ]
  },
  {
   "cell_type": "markdown",
   "id": "ec91e0d3",
   "metadata": {},
   "source": [
    "## 4. Compile Model"
   ]
  },
  {
   "cell_type": "code",
   "execution_count": 6,
   "id": "755fe05e",
   "metadata": {},
   "outputs": [
    {
     "data": {
      "text/html": [
       "<pre style=\"white-space:pre;overflow-x:auto;line-height:normal;font-family:Menlo,'DejaVu Sans Mono',consolas,'Courier New',monospace\"><span style=\"font-weight: bold\">Model: \"functional\"</span>\n",
       "</pre>\n"
      ],
      "text/plain": [
       "\u001b[1mModel: \"functional\"\u001b[0m\n"
      ]
     },
     "metadata": {},
     "output_type": "display_data"
    },
    {
     "data": {
      "text/html": [
       "<pre style=\"white-space:pre;overflow-x:auto;line-height:normal;font-family:Menlo,'DejaVu Sans Mono',consolas,'Courier New',monospace\">┏━━━━━━━━━━━━━━━━━━━━━┳━━━━━━━━━━━━━━━━━━━┳━━━━━━━━━━━━┳━━━━━━━━━━━━━━━━━━━┓\n",
       "┃<span style=\"font-weight: bold\"> Layer (type)        </span>┃<span style=\"font-weight: bold\"> Output Shape      </span>┃<span style=\"font-weight: bold\">    Param # </span>┃<span style=\"font-weight: bold\"> Connected to      </span>┃\n",
       "┡━━━━━━━━━━━━━━━━━━━━━╇━━━━━━━━━━━━━━━━━━━╇━━━━━━━━━━━━╇━━━━━━━━━━━━━━━━━━━┩\n",
       "│ input_layer         │ (<span style=\"color: #00d7ff; text-decoration-color: #00d7ff\">None</span>, <span style=\"color: #00af00; text-decoration-color: #00af00\">9</span>, <span style=\"color: #00af00; text-decoration-color: #00af00\">1</span>)      │          <span style=\"color: #00af00; text-decoration-color: #00af00\">0</span> │ -                 │\n",
       "│ (<span style=\"color: #0087ff; text-decoration-color: #0087ff\">InputLayer</span>)        │                   │            │                   │\n",
       "├─────────────────────┼───────────────────┼────────────┼───────────────────┤\n",
       "│ conv1d (<span style=\"color: #0087ff; text-decoration-color: #0087ff\">Conv1D</span>)     │ (<span style=\"color: #00d7ff; text-decoration-color: #00d7ff\">None</span>, <span style=\"color: #00af00; text-decoration-color: #00af00\">8</span>, <span style=\"color: #00af00; text-decoration-color: #00af00\">16</span>)     │         <span style=\"color: #00af00; text-decoration-color: #00af00\">48</span> │ input_layer[<span style=\"color: #00af00; text-decoration-color: #00af00\">0</span>][<span style=\"color: #00af00; text-decoration-color: #00af00\">0</span>] │\n",
       "├─────────────────────┼───────────────────┼────────────┼───────────────────┤\n",
       "│ flatten (<span style=\"color: #0087ff; text-decoration-color: #0087ff\">Flatten</span>)   │ (<span style=\"color: #00d7ff; text-decoration-color: #00d7ff\">None</span>, <span style=\"color: #00af00; text-decoration-color: #00af00\">128</span>)       │          <span style=\"color: #00af00; text-decoration-color: #00af00\">0</span> │ conv1d[<span style=\"color: #00af00; text-decoration-color: #00af00\">0</span>][<span style=\"color: #00af00; text-decoration-color: #00af00\">0</span>]      │\n",
       "├─────────────────────┼───────────────────┼────────────┼───────────────────┤\n",
       "│ dense (<span style=\"color: #0087ff; text-decoration-color: #0087ff\">Dense</span>)       │ (<span style=\"color: #00d7ff; text-decoration-color: #00d7ff\">None</span>, <span style=\"color: #00af00; text-decoration-color: #00af00\">32</span>)        │      <span style=\"color: #00af00; text-decoration-color: #00af00\">4,128</span> │ flatten[<span style=\"color: #00af00; text-decoration-color: #00af00\">0</span>][<span style=\"color: #00af00; text-decoration-color: #00af00\">0</span>]     │\n",
       "├─────────────────────┼───────────────────┼────────────┼───────────────────┤\n",
       "│ dense_1 (<span style=\"color: #0087ff; text-decoration-color: #0087ff\">Dense</span>)     │ (<span style=\"color: #00d7ff; text-decoration-color: #00d7ff\">None</span>, <span style=\"color: #00af00; text-decoration-color: #00af00\">16</span>)        │        <span style=\"color: #00af00; text-decoration-color: #00af00\">528</span> │ dense[<span style=\"color: #00af00; text-decoration-color: #00af00\">0</span>][<span style=\"color: #00af00; text-decoration-color: #00af00\">0</span>]       │\n",
       "├─────────────────────┼───────────────────┼────────────┼───────────────────┤\n",
       "│ regression (<span style=\"color: #0087ff; text-decoration-color: #0087ff\">Dense</span>)  │ (<span style=\"color: #00d7ff; text-decoration-color: #00d7ff\">None</span>, <span style=\"color: #00af00; text-decoration-color: #00af00\">3</span>)         │         <span style=\"color: #00af00; text-decoration-color: #00af00\">51</span> │ dense_1[<span style=\"color: #00af00; text-decoration-color: #00af00\">0</span>][<span style=\"color: #00af00; text-decoration-color: #00af00\">0</span>]     │\n",
       "├─────────────────────┼───────────────────┼────────────┼───────────────────┤\n",
       "│ grade (<span style=\"color: #0087ff; text-decoration-color: #0087ff\">Dense</span>)       │ (<span style=\"color: #00d7ff; text-decoration-color: #00d7ff\">None</span>, <span style=\"color: #00af00; text-decoration-color: #00af00\">3</span>)         │         <span style=\"color: #00af00; text-decoration-color: #00af00\">51</span> │ dense_1[<span style=\"color: #00af00; text-decoration-color: #00af00\">0</span>][<span style=\"color: #00af00; text-decoration-color: #00af00\">0</span>]     │\n",
       "├─────────────────────┼───────────────────┼────────────┼───────────────────┤\n",
       "│ defect (<span style=\"color: #0087ff; text-decoration-color: #0087ff\">Dense</span>)      │ (<span style=\"color: #00d7ff; text-decoration-color: #00d7ff\">None</span>, <span style=\"color: #00af00; text-decoration-color: #00af00\">1</span>)         │         <span style=\"color: #00af00; text-decoration-color: #00af00\">17</span> │ dense_1[<span style=\"color: #00af00; text-decoration-color: #00af00\">0</span>][<span style=\"color: #00af00; text-decoration-color: #00af00\">0</span>]     │\n",
       "├─────────────────────┼───────────────────┼────────────┼───────────────────┤\n",
       "│ fungus (<span style=\"color: #0087ff; text-decoration-color: #0087ff\">Dense</span>)      │ (<span style=\"color: #00d7ff; text-decoration-color: #00d7ff\">None</span>, <span style=\"color: #00af00; text-decoration-color: #00af00\">1</span>)         │         <span style=\"color: #00af00; text-decoration-color: #00af00\">17</span> │ dense_1[<span style=\"color: #00af00; text-decoration-color: #00af00\">0</span>][<span style=\"color: #00af00; text-decoration-color: #00af00\">0</span>]     │\n",
       "└─────────────────────┴───────────────────┴────────────┴───────────────────┘\n",
       "</pre>\n"
      ],
      "text/plain": [
       "┏━━━━━━━━━━━━━━━━━━━━━┳━━━━━━━━━━━━━━━━━━━┳━━━━━━━━━━━━┳━━━━━━━━━━━━━━━━━━━┓\n",
       "┃\u001b[1m \u001b[0m\u001b[1mLayer (type)       \u001b[0m\u001b[1m \u001b[0m┃\u001b[1m \u001b[0m\u001b[1mOutput Shape     \u001b[0m\u001b[1m \u001b[0m┃\u001b[1m \u001b[0m\u001b[1m   Param #\u001b[0m\u001b[1m \u001b[0m┃\u001b[1m \u001b[0m\u001b[1mConnected to     \u001b[0m\u001b[1m \u001b[0m┃\n",
       "┡━━━━━━━━━━━━━━━━━━━━━╇━━━━━━━━━━━━━━━━━━━╇━━━━━━━━━━━━╇━━━━━━━━━━━━━━━━━━━┩\n",
       "│ input_layer         │ (\u001b[38;5;45mNone\u001b[0m, \u001b[38;5;34m9\u001b[0m, \u001b[38;5;34m1\u001b[0m)      │          \u001b[38;5;34m0\u001b[0m │ -                 │\n",
       "│ (\u001b[38;5;33mInputLayer\u001b[0m)        │                   │            │                   │\n",
       "├─────────────────────┼───────────────────┼────────────┼───────────────────┤\n",
       "│ conv1d (\u001b[38;5;33mConv1D\u001b[0m)     │ (\u001b[38;5;45mNone\u001b[0m, \u001b[38;5;34m8\u001b[0m, \u001b[38;5;34m16\u001b[0m)     │         \u001b[38;5;34m48\u001b[0m │ input_layer[\u001b[38;5;34m0\u001b[0m][\u001b[38;5;34m0\u001b[0m] │\n",
       "├─────────────────────┼───────────────────┼────────────┼───────────────────┤\n",
       "│ flatten (\u001b[38;5;33mFlatten\u001b[0m)   │ (\u001b[38;5;45mNone\u001b[0m, \u001b[38;5;34m128\u001b[0m)       │          \u001b[38;5;34m0\u001b[0m │ conv1d[\u001b[38;5;34m0\u001b[0m][\u001b[38;5;34m0\u001b[0m]      │\n",
       "├─────────────────────┼───────────────────┼────────────┼───────────────────┤\n",
       "│ dense (\u001b[38;5;33mDense\u001b[0m)       │ (\u001b[38;5;45mNone\u001b[0m, \u001b[38;5;34m32\u001b[0m)        │      \u001b[38;5;34m4,128\u001b[0m │ flatten[\u001b[38;5;34m0\u001b[0m][\u001b[38;5;34m0\u001b[0m]     │\n",
       "├─────────────────────┼───────────────────┼────────────┼───────────────────┤\n",
       "│ dense_1 (\u001b[38;5;33mDense\u001b[0m)     │ (\u001b[38;5;45mNone\u001b[0m, \u001b[38;5;34m16\u001b[0m)        │        \u001b[38;5;34m528\u001b[0m │ dense[\u001b[38;5;34m0\u001b[0m][\u001b[38;5;34m0\u001b[0m]       │\n",
       "├─────────────────────┼───────────────────┼────────────┼───────────────────┤\n",
       "│ regression (\u001b[38;5;33mDense\u001b[0m)  │ (\u001b[38;5;45mNone\u001b[0m, \u001b[38;5;34m3\u001b[0m)         │         \u001b[38;5;34m51\u001b[0m │ dense_1[\u001b[38;5;34m0\u001b[0m][\u001b[38;5;34m0\u001b[0m]     │\n",
       "├─────────────────────┼───────────────────┼────────────┼───────────────────┤\n",
       "│ grade (\u001b[38;5;33mDense\u001b[0m)       │ (\u001b[38;5;45mNone\u001b[0m, \u001b[38;5;34m3\u001b[0m)         │         \u001b[38;5;34m51\u001b[0m │ dense_1[\u001b[38;5;34m0\u001b[0m][\u001b[38;5;34m0\u001b[0m]     │\n",
       "├─────────────────────┼───────────────────┼────────────┼───────────────────┤\n",
       "│ defect (\u001b[38;5;33mDense\u001b[0m)      │ (\u001b[38;5;45mNone\u001b[0m, \u001b[38;5;34m1\u001b[0m)         │         \u001b[38;5;34m17\u001b[0m │ dense_1[\u001b[38;5;34m0\u001b[0m][\u001b[38;5;34m0\u001b[0m]     │\n",
       "├─────────────────────┼───────────────────┼────────────┼───────────────────┤\n",
       "│ fungus (\u001b[38;5;33mDense\u001b[0m)      │ (\u001b[38;5;45mNone\u001b[0m, \u001b[38;5;34m1\u001b[0m)         │         \u001b[38;5;34m17\u001b[0m │ dense_1[\u001b[38;5;34m0\u001b[0m][\u001b[38;5;34m0\u001b[0m]     │\n",
       "└─────────────────────┴───────────────────┴────────────┴───────────────────┘\n"
      ]
     },
     "metadata": {},
     "output_type": "display_data"
    },
    {
     "data": {
      "text/html": [
       "<pre style=\"white-space:pre;overflow-x:auto;line-height:normal;font-family:Menlo,'DejaVu Sans Mono',consolas,'Courier New',monospace\"><span style=\"font-weight: bold\"> Total params: </span><span style=\"color: #00af00; text-decoration-color: #00af00\">4,840</span> (18.91 KB)\n",
       "</pre>\n"
      ],
      "text/plain": [
       "\u001b[1m Total params: \u001b[0m\u001b[38;5;34m4,840\u001b[0m (18.91 KB)\n"
      ]
     },
     "metadata": {},
     "output_type": "display_data"
    },
    {
     "data": {
      "text/html": [
       "<pre style=\"white-space:pre;overflow-x:auto;line-height:normal;font-family:Menlo,'DejaVu Sans Mono',consolas,'Courier New',monospace\"><span style=\"font-weight: bold\"> Trainable params: </span><span style=\"color: #00af00; text-decoration-color: #00af00\">4,840</span> (18.91 KB)\n",
       "</pre>\n"
      ],
      "text/plain": [
       "\u001b[1m Trainable params: \u001b[0m\u001b[38;5;34m4,840\u001b[0m (18.91 KB)\n"
      ]
     },
     "metadata": {},
     "output_type": "display_data"
    },
    {
     "data": {
      "text/html": [
       "<pre style=\"white-space:pre;overflow-x:auto;line-height:normal;font-family:Menlo,'DejaVu Sans Mono',consolas,'Courier New',monospace\"><span style=\"font-weight: bold\"> Non-trainable params: </span><span style=\"color: #00af00; text-decoration-color: #00af00\">0</span> (0.00 B)\n",
       "</pre>\n"
      ],
      "text/plain": [
       "\u001b[1m Non-trainable params: \u001b[0m\u001b[38;5;34m0\u001b[0m (0.00 B)\n"
      ]
     },
     "metadata": {},
     "output_type": "display_data"
    }
   ],
   "source": [
    "# ⚙️ Compile\n",
    "model.compile(\n",
    "    optimizer='adam',\n",
    "    loss={\n",
    "        'regression': 'mse',\n",
    "        'grade': 'categorical_crossentropy',\n",
    "        'defect': 'binary_crossentropy',\n",
    "        'fungus': 'binary_crossentropy'\n",
    "    },\n",
    "    metrics={\n",
    "        'regression': 'mae',\n",
    "        'grade': 'accuracy',\n",
    "        'defect': 'accuracy',\n",
    "        'fungus': 'accuracy'\n",
    "    }\n",
    ")\n",
    "\n",
    "model.summary()\n"
   ]
  },
  {
   "cell_type": "markdown",
   "id": "d3569993",
   "metadata": {},
   "source": [
    "## 5. Train & Plot Learning Curves"
   ]
  },
  {
   "cell_type": "code",
   "execution_count": 7,
   "id": "eeaafa68",
   "metadata": {},
   "outputs": [
    {
     "name": "stdout",
     "output_type": "stream",
     "text": [
      "Epoch 1/60\n",
      "\u001b[1m45/45\u001b[0m \u001b[32m━━━━━━━━━━━━━━━━━━━━\u001b[0m\u001b[37m\u001b[0m \u001b[1m3s\u001b[0m 13ms/step - defect_accuracy: 0.1862 - defect_loss: 0.8061 - fungus_accuracy: 0.4343 - fungus_loss: 0.7199 - grade_accuracy: 0.2778 - grade_loss: 1.1949 - loss: 2304.8257 - regression_loss: 2302.1050 - regression_mae: 34.6394 - val_defect_accuracy: 0.1222 - val_defect_loss: 1.0216 - val_fungus_accuracy: 0.7833 - val_fungus_loss: 0.5969 - val_grade_accuracy: 0.2389 - val_grade_loss: 1.1590 - val_loss: 2039.0383 - val_regression_loss: 2036.9242 - val_regression_mae: 32.5626\n",
      "Epoch 2/60\n",
      "\u001b[1m45/45\u001b[0m \u001b[32m━━━━━━━━━━━━━━━━━━━━\u001b[0m\u001b[37m\u001b[0m \u001b[1m0s\u001b[0m 5ms/step - defect_accuracy: 0.1596 - defect_loss: 0.9687 - fungus_accuracy: 0.8410 - fungus_loss: 0.5180 - grade_accuracy: 0.3522 - grade_loss: 1.4091 - loss: 1819.4863 - regression_loss: 1816.5907 - regression_mae: 30.9865 - val_defect_accuracy: 0.8778 - val_defect_loss: 0.3703 - val_fungus_accuracy: 0.7833 - val_fungus_loss: 0.6451 - val_grade_accuracy: 0.4833 - val_grade_loss: 1.0650 - val_loss: 906.4536 - val_regression_loss: 905.5864 - val_regression_mae: 26.0357\n",
      "Epoch 3/60\n",
      "\u001b[1m45/45\u001b[0m \u001b[32m━━━━━━━━━━━━━━━━━━━━\u001b[0m\u001b[37m\u001b[0m \u001b[1m0s\u001b[0m 5ms/step - defect_accuracy: 0.9089 - defect_loss: 0.3042 - fungus_accuracy: 0.8365 - fungus_loss: 0.5466 - grade_accuracy: 0.3132 - grade_loss: 1.2150 - loss: 587.6401 - regression_loss: 585.5743 - regression_mae: 20.6604 - val_defect_accuracy: 0.8778 - val_defect_loss: 0.3924 - val_fungus_accuracy: 0.7833 - val_fungus_loss: 0.6159 - val_grade_accuracy: 0.4833 - val_grade_loss: 1.0491 - val_loss: 48.0468 - val_regression_loss: 45.8877 - val_regression_mae: 4.8599\n",
      "Epoch 4/60\n",
      "\u001b[1m45/45\u001b[0m \u001b[32m━━━━━━━━━━━━━━━━━━━━\u001b[0m\u001b[37m\u001b[0m \u001b[1m0s\u001b[0m 5ms/step - defect_accuracy: 0.8930 - defect_loss: 0.3585 - fungus_accuracy: 0.8508 - fungus_loss: 0.4993 - grade_accuracy: 0.4846 - grade_loss: 1.1879 - loss: 38.6522 - regression_loss: 36.6065 - regression_mae: 4.3097 - val_defect_accuracy: 0.8778 - val_defect_loss: 0.4028 - val_fungus_accuracy: 0.7833 - val_fungus_loss: 0.5976 - val_grade_accuracy: 0.0056 - val_grade_loss: 1.1780 - val_loss: 22.1432 - val_regression_loss: 19.5450 - val_regression_mae: 3.4018\n",
      "Epoch 5/60\n",
      "\u001b[1m45/45\u001b[0m \u001b[32m━━━━━━━━━━━━━━━━━━━━\u001b[0m\u001b[37m\u001b[0m \u001b[1m0s\u001b[0m 4ms/step - defect_accuracy: 0.8913 - defect_loss: 0.3797 - fungus_accuracy: 0.8568 - fungus_loss: 0.5005 - grade_accuracy: 0.2867 - grade_loss: 1.1585 - loss: 19.9304 - regression_loss: 17.8916 - regression_mae: 3.2891 - val_defect_accuracy: 0.8778 - val_defect_loss: 0.4272 - val_fungus_accuracy: 0.7833 - val_fungus_loss: 0.6434 - val_grade_accuracy: 0.4833 - val_grade_loss: 1.0730 - val_loss: 15.9920 - val_regression_loss: 13.4109 - val_regression_mae: 2.8521\n",
      "Epoch 6/60\n",
      "\u001b[1m45/45\u001b[0m \u001b[32m━━━━━━━━━━━━━━━━━━━━\u001b[0m\u001b[37m\u001b[0m \u001b[1m0s\u001b[0m 5ms/step - defect_accuracy: 0.8957 - defect_loss: 0.3769 - fungus_accuracy: 0.8622 - fungus_loss: 0.4604 - grade_accuracy: 0.3132 - grade_loss: 1.1774 - loss: 15.0033 - regression_loss: 12.9886 - regression_mae: 2.8431 - val_defect_accuracy: 0.8778 - val_defect_loss: 0.4144 - val_fungus_accuracy: 0.7833 - val_fungus_loss: 0.5724 - val_grade_accuracy: 0.5389 - val_grade_loss: 1.0314 - val_loss: 13.8731 - val_regression_loss: 11.4429 - val_regression_mae: 2.6339\n",
      "Epoch 7/60\n",
      "\u001b[1m45/45\u001b[0m \u001b[32m━━━━━━━━━━━━━━━━━━━━\u001b[0m\u001b[37m\u001b[0m \u001b[1m0s\u001b[0m 5ms/step - defect_accuracy: 0.9011 - defect_loss: 0.3715 - fungus_accuracy: 0.8378 - fungus_loss: 0.4839 - grade_accuracy: 0.4831 - grade_loss: 1.1334 - loss: 12.6267 - regression_loss: 10.6378 - regression_mae: 2.5804 - val_defect_accuracy: 0.8778 - val_defect_loss: 0.4099 - val_fungus_accuracy: 0.7833 - val_fungus_loss: 0.5529 - val_grade_accuracy: 0.3611 - val_grade_loss: 1.0760 - val_loss: 12.7825 - val_regression_loss: 10.3487 - val_regression_mae: 2.4579\n",
      "Epoch 8/60\n",
      "\u001b[1m45/45\u001b[0m \u001b[32m━━━━━━━━━━━━━━━━━━━━\u001b[0m\u001b[37m\u001b[0m \u001b[1m0s\u001b[0m 5ms/step - defect_accuracy: 0.8992 - defect_loss: 0.3598 - fungus_accuracy: 0.8563 - fungus_loss: 0.4519 - grade_accuracy: 0.5026 - grade_loss: 1.0944 - loss: 12.3791 - regression_loss: 10.4731 - regression_mae: 2.5022 - val_defect_accuracy: 0.8778 - val_defect_loss: 0.4155 - val_fungus_accuracy: 0.7833 - val_fungus_loss: 0.5382 - val_grade_accuracy: 0.6222 - val_grade_loss: 0.9573 - val_loss: 11.9167 - val_regression_loss: 9.6209 - val_regression_mae: 2.3308\n",
      "Epoch 9/60\n",
      "\u001b[1m45/45\u001b[0m \u001b[32m━━━━━━━━━━━━━━━━━━━━\u001b[0m\u001b[37m\u001b[0m \u001b[1m0s\u001b[0m 5ms/step - defect_accuracy: 0.9005 - defect_loss: 0.3550 - fungus_accuracy: 0.8413 - fungus_loss: 0.4678 - grade_accuracy: 0.4776 - grade_loss: 1.0937 - loss: 11.1742 - regression_loss: 9.2577 - regression_mae: 2.3041 - val_defect_accuracy: 0.8778 - val_defect_loss: 0.3944 - val_fungus_accuracy: 0.7833 - val_fungus_loss: 0.5867 - val_grade_accuracy: 0.5833 - val_grade_loss: 0.9287 - val_loss: 11.2186 - val_regression_loss: 8.8783 - val_regression_mae: 2.2139\n",
      "Epoch 10/60\n",
      "\u001b[1m45/45\u001b[0m \u001b[32m━━━━━━━━━━━━━━━━━━━━\u001b[0m\u001b[37m\u001b[0m \u001b[1m0s\u001b[0m 6ms/step - defect_accuracy: 0.9144 - defect_loss: 0.3163 - fungus_accuracy: 0.8278 - fungus_loss: 0.4882 - grade_accuracy: 0.5399 - grade_loss: 0.9697 - loss: 10.3185 - regression_loss: 8.5443 - regression_mae: 2.2301 - val_defect_accuracy: 0.8778 - val_defect_loss: 0.3856 - val_fungus_accuracy: 0.7833 - val_fungus_loss: 0.5753 - val_grade_accuracy: 0.6556 - val_grade_loss: 0.8545 - val_loss: 10.9252 - val_regression_loss: 8.7271 - val_regression_mae: 2.1375\n",
      "Epoch 11/60\n",
      "\u001b[1m45/45\u001b[0m \u001b[32m━━━━━━━━━━━━━━━━━━━━\u001b[0m\u001b[37m\u001b[0m \u001b[1m0s\u001b[0m 6ms/step - defect_accuracy: 0.8885 - defect_loss: 0.3761 - fungus_accuracy: 0.8454 - fungus_loss: 0.4478 - grade_accuracy: 0.5706 - grade_loss: 0.9028 - loss: 9.9649 - regression_loss: 8.2382 - regression_mae: 2.0972 - val_defect_accuracy: 0.8778 - val_defect_loss: 0.4141 - val_fungus_accuracy: 0.7833 - val_fungus_loss: 0.5227 - val_grade_accuracy: 0.6111 - val_grade_loss: 0.8213 - val_loss: 10.1018 - val_regression_loss: 7.9339 - val_regression_mae: 2.0446\n",
      "Epoch 12/60\n",
      "\u001b[1m45/45\u001b[0m \u001b[32m━━━━━━━━━━━━━━━━━━━━\u001b[0m\u001b[37m\u001b[0m \u001b[1m0s\u001b[0m 5ms/step - defect_accuracy: 0.8874 - defect_loss: 0.3995 - fungus_accuracy: 0.8503 - fungus_loss: 0.4299 - grade_accuracy: 0.6327 - grade_loss: 0.8170 - loss: 10.0706 - regression_loss: 8.4242 - regression_mae: 2.1081 - val_defect_accuracy: 0.8778 - val_defect_loss: 0.3814 - val_fungus_accuracy: 0.7833 - val_fungus_loss: 0.5300 - val_grade_accuracy: 0.6444 - val_grade_loss: 0.7617 - val_loss: 9.5923 - val_regression_loss: 7.5172 - val_regression_mae: 1.9751\n",
      "Epoch 13/60\n",
      "\u001b[1m45/45\u001b[0m \u001b[32m━━━━━━━━━━━━━━━━━━━━\u001b[0m\u001b[37m\u001b[0m \u001b[1m0s\u001b[0m 5ms/step - defect_accuracy: 0.8966 - defect_loss: 0.3469 - fungus_accuracy: 0.8309 - fungus_loss: 0.4657 - grade_accuracy: 0.7086 - grade_loss: 0.7398 - loss: 8.2596 - regression_loss: 6.7073 - regression_mae: 1.8900 - val_defect_accuracy: 0.8778 - val_defect_loss: 0.3772 - val_fungus_accuracy: 0.7833 - val_fungus_loss: 0.5385 - val_grade_accuracy: 0.6556 - val_grade_loss: 0.6977 - val_loss: 9.2772 - val_regression_loss: 7.2799 - val_regression_mae: 1.9232\n",
      "Epoch 14/60\n",
      "\u001b[1m45/45\u001b[0m \u001b[32m━━━━━━━━━━━━━━━━━━━━\u001b[0m\u001b[37m\u001b[0m \u001b[1m0s\u001b[0m 6ms/step - defect_accuracy: 0.9013 - defect_loss: 0.3360 - fungus_accuracy: 0.8422 - fungus_loss: 0.4532 - grade_accuracy: 0.6687 - grade_loss: 0.6623 - loss: 8.4066 - regression_loss: 6.9552 - regression_mae: 1.8989 - val_defect_accuracy: 0.8778 - val_defect_loss: 0.3724 - val_fungus_accuracy: 0.7833 - val_fungus_loss: 0.5373 - val_grade_accuracy: 0.6889 - val_grade_loss: 0.6514 - val_loss: 9.0408 - val_regression_loss: 7.0985 - val_regression_mae: 1.8918\n",
      "Epoch 15/60\n",
      "\u001b[1m45/45\u001b[0m \u001b[32m━━━━━━━━━━━━━━━━━━━━\u001b[0m\u001b[37m\u001b[0m \u001b[1m0s\u001b[0m 5ms/step - defect_accuracy: 0.8969 - defect_loss: 0.3433 - fungus_accuracy: 0.8454 - fungus_loss: 0.4455 - grade_accuracy: 0.7221 - grade_loss: 0.6434 - loss: 8.3701 - regression_loss: 6.9378 - regression_mae: 1.8554 - val_defect_accuracy: 0.8778 - val_defect_loss: 0.3795 - val_fungus_accuracy: 0.7833 - val_fungus_loss: 0.5099 - val_grade_accuracy: 0.6611 - val_grade_loss: 0.6412 - val_loss: 8.6999 - val_regression_loss: 6.7863 - val_regression_mae: 1.8531\n",
      "Epoch 16/60\n",
      "\u001b[1m45/45\u001b[0m \u001b[32m━━━━━━━━━━━━━━━━━━━━\u001b[0m\u001b[37m\u001b[0m \u001b[1m0s\u001b[0m 5ms/step - defect_accuracy: 0.9037 - defect_loss: 0.3273 - fungus_accuracy: 0.8668 - fungus_loss: 0.3956 - grade_accuracy: 0.7199 - grade_loss: 0.6032 - loss: 7.9746 - regression_loss: 6.6485 - regression_mae: 1.8492 - val_defect_accuracy: 0.8778 - val_defect_loss: 0.3696 - val_fungus_accuracy: 0.7833 - val_fungus_loss: 0.5087 - val_grade_accuracy: 0.6889 - val_grade_loss: 0.5704 - val_loss: 8.4345 - val_regression_loss: 6.6342 - val_regression_mae: 1.8180\n",
      "Epoch 17/60\n",
      "\u001b[1m45/45\u001b[0m \u001b[32m━━━━━━━━━━━━━━━━━━━━\u001b[0m\u001b[37m\u001b[0m \u001b[1m0s\u001b[0m 5ms/step - defect_accuracy: 0.8979 - defect_loss: 0.3390 - fungus_accuracy: 0.8346 - fungus_loss: 0.4506 - grade_accuracy: 0.7751 - grade_loss: 0.5617 - loss: 7.2446 - regression_loss: 5.8932 - regression_mae: 1.7187 - val_defect_accuracy: 0.8778 - val_defect_loss: 0.3721 - val_fungus_accuracy: 0.7833 - val_fungus_loss: 0.5213 - val_grade_accuracy: 0.7444 - val_grade_loss: 0.5602 - val_loss: 8.3479 - val_regression_loss: 6.5019 - val_regression_mae: 1.8318\n",
      "Epoch 18/60\n",
      "\u001b[1m45/45\u001b[0m \u001b[32m━━━━━━━━━━━━━━━━━━━━\u001b[0m\u001b[37m\u001b[0m \u001b[1m0s\u001b[0m 5ms/step - defect_accuracy: 0.9082 - defect_loss: 0.3131 - fungus_accuracy: 0.8641 - fungus_loss: 0.4007 - grade_accuracy: 0.7649 - grade_loss: 0.5230 - loss: 7.2871 - regression_loss: 6.0503 - regression_mae: 1.7346 - val_defect_accuracy: 0.8778 - val_defect_loss: 0.3695 - val_fungus_accuracy: 0.7833 - val_fungus_loss: 0.5063 - val_grade_accuracy: 0.6833 - val_grade_loss: 0.5571 - val_loss: 8.1042 - val_regression_loss: 6.3208 - val_regression_mae: 1.7913\n",
      "Epoch 19/60\n",
      "\u001b[1m45/45\u001b[0m \u001b[32m━━━━━━━━━━━━━━━━━━━━\u001b[0m\u001b[37m\u001b[0m \u001b[1m0s\u001b[0m 5ms/step - defect_accuracy: 0.9018 - defect_loss: 0.3318 - fungus_accuracy: 0.8546 - fungus_loss: 0.4157 - grade_accuracy: 0.7753 - grade_loss: 0.5087 - loss: 7.1698 - regression_loss: 5.9136 - regression_mae: 1.7484 - val_defect_accuracy: 0.8778 - val_defect_loss: 0.3798 - val_fungus_accuracy: 0.7833 - val_fungus_loss: 0.5256 - val_grade_accuracy: 0.7333 - val_grade_loss: 0.5378 - val_loss: 8.1981 - val_regression_loss: 6.4028 - val_regression_mae: 1.8155\n",
      "Epoch 20/60\n",
      "\u001b[1m45/45\u001b[0m \u001b[32m━━━━━━━━━━━━━━━━━━━━\u001b[0m\u001b[37m\u001b[0m \u001b[1m0s\u001b[0m 5ms/step - defect_accuracy: 0.8907 - defect_loss: 0.3551 - fungus_accuracy: 0.8412 - fungus_loss: 0.4421 - grade_accuracy: 0.7707 - grade_loss: 0.5248 - loss: 7.0989 - regression_loss: 5.7769 - regression_mae: 1.7162 - val_defect_accuracy: 0.8778 - val_defect_loss: 0.3775 - val_fungus_accuracy: 0.7833 - val_fungus_loss: 0.5173 - val_grade_accuracy: 0.7333 - val_grade_loss: 0.5179 - val_loss: 7.6781 - val_regression_loss: 5.9083 - val_regression_mae: 1.7539\n",
      "Epoch 21/60\n",
      "\u001b[1m45/45\u001b[0m \u001b[32m━━━━━━━━━━━━━━━━━━━━\u001b[0m\u001b[37m\u001b[0m \u001b[1m0s\u001b[0m 5ms/step - defect_accuracy: 0.9000 - defect_loss: 0.3339 - fungus_accuracy: 0.8407 - fungus_loss: 0.4414 - grade_accuracy: 0.7892 - grade_loss: 0.4867 - loss: 7.1379 - regression_loss: 5.8759 - regression_mae: 1.7331 - val_defect_accuracy: 0.8778 - val_defect_loss: 0.3659 - val_fungus_accuracy: 0.7833 - val_fungus_loss: 0.5151 - val_grade_accuracy: 0.6778 - val_grade_loss: 0.5267 - val_loss: 7.6718 - val_regression_loss: 5.9105 - val_regression_mae: 1.7719\n",
      "Epoch 22/60\n",
      "\u001b[1m45/45\u001b[0m \u001b[32m━━━━━━━━━━━━━━━━━━━━\u001b[0m\u001b[37m\u001b[0m \u001b[1m0s\u001b[0m 4ms/step - defect_accuracy: 0.9052 - defect_loss: 0.3261 - fungus_accuracy: 0.8545 - fungus_loss: 0.4219 - grade_accuracy: 0.7739 - grade_loss: 0.4695 - loss: 6.6059 - regression_loss: 5.3885 - regression_mae: 1.6634 - val_defect_accuracy: 0.8778 - val_defect_loss: 0.3714 - val_fungus_accuracy: 0.7833 - val_fungus_loss: 0.5340 - val_grade_accuracy: 0.7278 - val_grade_loss: 0.5034 - val_loss: 7.4823 - val_regression_loss: 5.7241 - val_regression_mae: 1.7430\n",
      "Epoch 23/60\n",
      "\u001b[1m45/45\u001b[0m \u001b[32m━━━━━━━━━━━━━━━━━━━━\u001b[0m\u001b[37m\u001b[0m \u001b[1m0s\u001b[0m 5ms/step - defect_accuracy: 0.8869 - defect_loss: 0.3643 - fungus_accuracy: 0.8503 - fungus_loss: 0.4236 - grade_accuracy: 0.7972 - grade_loss: 0.4769 - loss: 6.8372 - regression_loss: 5.5724 - regression_mae: 1.6671 - val_defect_accuracy: 0.8778 - val_defect_loss: 0.3828 - val_fungus_accuracy: 0.7833 - val_fungus_loss: 0.5064 - val_grade_accuracy: 0.7556 - val_grade_loss: 0.5148 - val_loss: 7.3218 - val_regression_loss: 5.5929 - val_regression_mae: 1.7222\n",
      "Epoch 24/60\n",
      "\u001b[1m45/45\u001b[0m \u001b[32m━━━━━━━━━━━━━━━━━━━━\u001b[0m\u001b[37m\u001b[0m \u001b[1m0s\u001b[0m 5ms/step - defect_accuracy: 0.8946 - defect_loss: 0.3496 - fungus_accuracy: 0.8485 - fungus_loss: 0.4279 - grade_accuracy: 0.7713 - grade_loss: 0.4967 - loss: 6.5005 - regression_loss: 5.2263 - regression_mae: 1.6318 - val_defect_accuracy: 0.8778 - val_defect_loss: 0.3884 - val_fungus_accuracy: 0.7833 - val_fungus_loss: 0.5720 - val_grade_accuracy: 0.7333 - val_grade_loss: 0.5228 - val_loss: 7.4212 - val_regression_loss: 5.6081 - val_regression_mae: 1.7222\n",
      "Epoch 25/60\n",
      "\u001b[1m45/45\u001b[0m \u001b[32m━━━━━━━━━━━━━━━━━━━━\u001b[0m\u001b[37m\u001b[0m \u001b[1m0s\u001b[0m 5ms/step - defect_accuracy: 0.9029 - defect_loss: 0.3316 - fungus_accuracy: 0.8468 - fungus_loss: 0.4382 - grade_accuracy: 0.7756 - grade_loss: 0.4781 - loss: 6.6755 - regression_loss: 5.4275 - regression_mae: 1.6694 - val_defect_accuracy: 0.8778 - val_defect_loss: 0.3675 - val_fungus_accuracy: 0.7833 - val_fungus_loss: 0.5075 - val_grade_accuracy: 0.7389 - val_grade_loss: 0.4967 - val_loss: 7.1349 - val_regression_loss: 5.4308 - val_regression_mae: 1.7125\n",
      "Epoch 26/60\n",
      "\u001b[1m45/45\u001b[0m \u001b[32m━━━━━━━━━━━━━━━━━━━━\u001b[0m\u001b[37m\u001b[0m \u001b[1m0s\u001b[0m 4ms/step - defect_accuracy: 0.8839 - defect_loss: 0.3663 - fungus_accuracy: 0.8646 - fungus_loss: 0.3977 - grade_accuracy: 0.7629 - grade_loss: 0.4991 - loss: 6.3542 - regression_loss: 5.0911 - regression_mae: 1.6215 - val_defect_accuracy: 0.8778 - val_defect_loss: 0.3773 - val_fungus_accuracy: 0.7833 - val_fungus_loss: 0.5049 - val_grade_accuracy: 0.7333 - val_grade_loss: 0.4892 - val_loss: 7.0965 - val_regression_loss: 5.3971 - val_regression_mae: 1.7135\n",
      "Epoch 27/60\n",
      "\u001b[1m45/45\u001b[0m \u001b[32m━━━━━━━━━━━━━━━━━━━━\u001b[0m\u001b[37m\u001b[0m \u001b[1m0s\u001b[0m 5ms/step - defect_accuracy: 0.8938 - defect_loss: 0.3463 - fungus_accuracy: 0.8202 - fungus_loss: 0.4726 - grade_accuracy: 0.7898 - grade_loss: 0.4517 - loss: 6.3969 - regression_loss: 5.1263 - regression_mae: 1.6064 - val_defect_accuracy: 0.8778 - val_defect_loss: 0.3656 - val_fungus_accuracy: 0.7833 - val_fungus_loss: 0.5505 - val_grade_accuracy: 0.7278 - val_grade_loss: 0.4843 - val_loss: 6.9101 - val_regression_loss: 5.1886 - val_regression_mae: 1.6745\n",
      "Epoch 28/60\n",
      "\u001b[1m45/45\u001b[0m \u001b[32m━━━━━━━━━━━━━━━━━━━━\u001b[0m\u001b[37m\u001b[0m \u001b[1m0s\u001b[0m 5ms/step - defect_accuracy: 0.8954 - defect_loss: 0.3379 - fungus_accuracy: 0.8585 - fungus_loss: 0.4125 - grade_accuracy: 0.8076 - grade_loss: 0.4409 - loss: 6.5345 - regression_loss: 5.3432 - regression_mae: 1.6605 - val_defect_accuracy: 0.8778 - val_defect_loss: 0.3669 - val_fungus_accuracy: 0.7833 - val_fungus_loss: 0.5373 - val_grade_accuracy: 0.6722 - val_grade_loss: 0.5105 - val_loss: 6.9786 - val_regression_loss: 5.2644 - val_regression_mae: 1.6964\n",
      "Epoch 29/60\n",
      "\u001b[1m45/45\u001b[0m \u001b[32m━━━━━━━━━━━━━━━━━━━━\u001b[0m\u001b[37m\u001b[0m \u001b[1m0s\u001b[0m 5ms/step - defect_accuracy: 0.9181 - defect_loss: 0.2874 - fungus_accuracy: 0.8410 - fungus_loss: 0.4504 - grade_accuracy: 0.7517 - grade_loss: 0.4673 - loss: 6.1046 - regression_loss: 4.8994 - regression_mae: 1.5877 - val_defect_accuracy: 0.8778 - val_defect_loss: 0.3635 - val_fungus_accuracy: 0.7833 - val_fungus_loss: 0.5114 - val_grade_accuracy: 0.7333 - val_grade_loss: 0.4771 - val_loss: 7.1794 - val_regression_loss: 5.5162 - val_regression_mae: 1.7279\n",
      "Epoch 30/60\n",
      "\u001b[1m45/45\u001b[0m \u001b[32m━━━━━━━━━━━━━━━━━━━━\u001b[0m\u001b[37m\u001b[0m \u001b[1m0s\u001b[0m 5ms/step - defect_accuracy: 0.9026 - defect_loss: 0.3271 - fungus_accuracy: 0.8508 - fungus_loss: 0.4222 - grade_accuracy: 0.7820 - grade_loss: 0.4626 - loss: 6.1778 - regression_loss: 4.9659 - regression_mae: 1.6150 - val_defect_accuracy: 0.8778 - val_defect_loss: 0.3712 - val_fungus_accuracy: 0.7833 - val_fungus_loss: 0.5095 - val_grade_accuracy: 0.7389 - val_grade_loss: 0.5003 - val_loss: 6.8068 - val_regression_loss: 5.1188 - val_regression_mae: 1.6888\n",
      "Epoch 31/60\n",
      "\u001b[1m45/45\u001b[0m \u001b[32m━━━━━━━━━━━━━━━━━━━━\u001b[0m\u001b[37m\u001b[0m \u001b[1m0s\u001b[0m 4ms/step - defect_accuracy: 0.9061 - defect_loss: 0.3193 - fungus_accuracy: 0.8571 - fungus_loss: 0.4131 - grade_accuracy: 0.7827 - grade_loss: 0.4378 - loss: 5.7230 - regression_loss: 4.5528 - regression_mae: 1.5593 - val_defect_accuracy: 0.8778 - val_defect_loss: 0.3640 - val_fungus_accuracy: 0.7833 - val_fungus_loss: 0.5277 - val_grade_accuracy: 0.7500 - val_grade_loss: 0.4752 - val_loss: 6.7440 - val_regression_loss: 5.0860 - val_regression_mae: 1.6817\n",
      "Epoch 32/60\n",
      "\u001b[1m45/45\u001b[0m \u001b[32m━━━━━━━━━━━━━━━━━━━━\u001b[0m\u001b[37m\u001b[0m \u001b[1m0s\u001b[0m 5ms/step - defect_accuracy: 0.9051 - defect_loss: 0.3208 - fungus_accuracy: 0.8257 - fungus_loss: 0.4806 - grade_accuracy: 0.8011 - grade_loss: 0.4412 - loss: 5.8709 - regression_loss: 4.6284 - regression_mae: 1.5664 - val_defect_accuracy: 0.8778 - val_defect_loss: 0.3650 - val_fungus_accuracy: 0.7833 - val_fungus_loss: 0.5050 - val_grade_accuracy: 0.7167 - val_grade_loss: 0.4876 - val_loss: 6.5889 - val_regression_loss: 4.9715 - val_regression_mae: 1.6608\n",
      "Epoch 33/60\n",
      "\u001b[1m45/45\u001b[0m \u001b[32m━━━━━━━━━━━━━━━━━━━━\u001b[0m\u001b[37m\u001b[0m \u001b[1m0s\u001b[0m 4ms/step - defect_accuracy: 0.8973 - defect_loss: 0.3353 - fungus_accuracy: 0.8528 - fungus_loss: 0.4219 - grade_accuracy: 0.7952 - grade_loss: 0.4392 - loss: 6.2504 - regression_loss: 5.0540 - regression_mae: 1.6277 - val_defect_accuracy: 0.8778 - val_defect_loss: 0.3623 - val_fungus_accuracy: 0.7833 - val_fungus_loss: 0.5190 - val_grade_accuracy: 0.7333 - val_grade_loss: 0.4713 - val_loss: 6.5674 - val_regression_loss: 4.9477 - val_regression_mae: 1.6591\n",
      "Epoch 34/60\n",
      "\u001b[1m45/45\u001b[0m \u001b[32m━━━━━━━━━━━━━━━━━━━━\u001b[0m\u001b[37m\u001b[0m \u001b[1m0s\u001b[0m 4ms/step - defect_accuracy: 0.8960 - defect_loss: 0.3406 - fungus_accuracy: 0.8447 - fungus_loss: 0.4334 - grade_accuracy: 0.7908 - grade_loss: 0.4544 - loss: 5.9344 - regression_loss: 4.7059 - regression_mae: 1.5742 - val_defect_accuracy: 0.8778 - val_defect_loss: 0.3897 - val_fungus_accuracy: 0.7833 - val_fungus_loss: 0.5165 - val_grade_accuracy: 0.7333 - val_grade_loss: 0.4678 - val_loss: 6.6068 - val_regression_loss: 4.9906 - val_regression_mae: 1.6457\n",
      "Epoch 35/60\n",
      "\u001b[1m45/45\u001b[0m \u001b[32m━━━━━━━━━━━━━━━━━━━━\u001b[0m\u001b[37m\u001b[0m \u001b[1m0s\u001b[0m 5ms/step - defect_accuracy: 0.8979 - defect_loss: 0.3392 - fungus_accuracy: 0.8702 - fungus_loss: 0.3857 - grade_accuracy: 0.7859 - grade_loss: 0.4567 - loss: 5.8165 - regression_loss: 4.6349 - regression_mae: 1.5886 - val_defect_accuracy: 0.8778 - val_defect_loss: 0.3929 - val_fungus_accuracy: 0.7833 - val_fungus_loss: 0.5059 - val_grade_accuracy: 0.7444 - val_grade_loss: 0.4739 - val_loss: 6.5584 - val_regression_loss: 4.9525 - val_regression_mae: 1.6488\n",
      "Epoch 36/60\n",
      "\u001b[1m45/45\u001b[0m \u001b[32m━━━━━━━━━━━━━━━━━━━━\u001b[0m\u001b[37m\u001b[0m \u001b[1m0s\u001b[0m 5ms/step - defect_accuracy: 0.9147 - defect_loss: 0.2974 - fungus_accuracy: 0.8605 - fungus_loss: 0.4140 - grade_accuracy: 0.7823 - grade_loss: 0.4443 - loss: 5.6821 - regression_loss: 4.5264 - regression_mae: 1.5438 - val_defect_accuracy: 0.8778 - val_defect_loss: 0.3615 - val_fungus_accuracy: 0.7833 - val_fungus_loss: 0.5412 - val_grade_accuracy: 0.7500 - val_grade_loss: 0.4638 - val_loss: 6.3429 - val_regression_loss: 4.7180 - val_regression_mae: 1.6233\n",
      "Epoch 37/60\n",
      "\u001b[1m45/45\u001b[0m \u001b[32m━━━━━━━━━━━━━━━━━━━━\u001b[0m\u001b[37m\u001b[0m \u001b[1m0s\u001b[0m 5ms/step - defect_accuracy: 0.8928 - defect_loss: 0.3453 - fungus_accuracy: 0.8457 - fungus_loss: 0.4360 - grade_accuracy: 0.7845 - grade_loss: 0.4543 - loss: 5.7151 - regression_loss: 4.4794 - regression_mae: 1.5646 - val_defect_accuracy: 0.8778 - val_defect_loss: 0.3613 - val_fungus_accuracy: 0.7833 - val_fungus_loss: 0.5401 - val_grade_accuracy: 0.7389 - val_grade_loss: 0.4895 - val_loss: 6.3038 - val_regression_loss: 4.6708 - val_regression_mae: 1.6112\n",
      "Epoch 38/60\n",
      "\u001b[1m45/45\u001b[0m \u001b[32m━━━━━━━━━━━━━━━━━━━━\u001b[0m\u001b[37m\u001b[0m \u001b[1m0s\u001b[0m 5ms/step - defect_accuracy: 0.8940 - defect_loss: 0.3419 - fungus_accuracy: 0.8540 - fungus_loss: 0.4168 - grade_accuracy: 0.7880 - grade_loss: 0.4568 - loss: 5.8153 - regression_loss: 4.5999 - regression_mae: 1.5520 - val_defect_accuracy: 0.8778 - val_defect_loss: 0.3626 - val_fungus_accuracy: 0.7833 - val_fungus_loss: 0.5099 - val_grade_accuracy: 0.6722 - val_grade_loss: 0.5532 - val_loss: 6.4987 - val_regression_loss: 4.7933 - val_regression_mae: 1.6323\n",
      "Epoch 39/60\n",
      "\u001b[1m45/45\u001b[0m \u001b[32m━━━━━━━━━━━━━━━━━━━━\u001b[0m\u001b[37m\u001b[0m \u001b[1m0s\u001b[0m 5ms/step - defect_accuracy: 0.9247 - defect_loss: 0.2789 - fungus_accuracy: 0.8580 - fungus_loss: 0.4089 - grade_accuracy: 0.7487 - grade_loss: 0.4727 - loss: 5.5942 - regression_loss: 4.4336 - regression_mae: 1.5344 - val_defect_accuracy: 0.8778 - val_defect_loss: 0.3628 - val_fungus_accuracy: 0.7833 - val_fungus_loss: 0.5058 - val_grade_accuracy: 0.7556 - val_grade_loss: 0.4783 - val_loss: 6.2449 - val_regression_loss: 4.6825 - val_regression_mae: 1.6079\n",
      "Epoch 40/60\n",
      "\u001b[1m45/45\u001b[0m \u001b[32m━━━━━━━━━━━━━━━━━━━━\u001b[0m\u001b[37m\u001b[0m \u001b[1m0s\u001b[0m 5ms/step - defect_accuracy: 0.8942 - defect_loss: 0.3363 - fungus_accuracy: 0.8419 - fungus_loss: 0.4373 - grade_accuracy: 0.7769 - grade_loss: 0.4557 - loss: 5.6746 - regression_loss: 4.4453 - regression_mae: 1.5449 - val_defect_accuracy: 0.8778 - val_defect_loss: 0.3618 - val_fungus_accuracy: 0.7833 - val_fungus_loss: 0.5576 - val_grade_accuracy: 0.6889 - val_grade_loss: 0.5389 - val_loss: 6.3469 - val_regression_loss: 4.6395 - val_regression_mae: 1.6173\n",
      "Epoch 41/60\n",
      "\u001b[1m45/45\u001b[0m \u001b[32m━━━━━━━━━━━━━━━━━━━━\u001b[0m\u001b[37m\u001b[0m \u001b[1m0s\u001b[0m 5ms/step - defect_accuracy: 0.8953 - defect_loss: 0.3441 - fungus_accuracy: 0.8281 - fungus_loss: 0.4729 - grade_accuracy: 0.8229 - grade_loss: 0.3933 - loss: 5.3552 - regression_loss: 4.1448 - regression_mae: 1.4866 - val_defect_accuracy: 0.8778 - val_defect_loss: 0.3665 - val_fungus_accuracy: 0.7833 - val_fungus_loss: 0.5358 - val_grade_accuracy: 0.7056 - val_grade_loss: 0.5029 - val_loss: 6.2264 - val_regression_loss: 4.5578 - val_regression_mae: 1.6054\n",
      "Epoch 42/60\n",
      "\u001b[1m45/45\u001b[0m \u001b[32m━━━━━━━━━━━━━━━━━━━━\u001b[0m\u001b[37m\u001b[0m \u001b[1m0s\u001b[0m 4ms/step - defect_accuracy: 0.8824 - defect_loss: 0.3721 - fungus_accuracy: 0.8543 - fungus_loss: 0.4124 - grade_accuracy: 0.7720 - grade_loss: 0.4570 - loss: 5.7122 - regression_loss: 4.4706 - regression_mae: 1.5587 - val_defect_accuracy: 0.8778 - val_defect_loss: 0.3823 - val_fungus_accuracy: 0.7833 - val_fungus_loss: 0.5533 - val_grade_accuracy: 0.6944 - val_grade_loss: 0.4902 - val_loss: 6.0810 - val_regression_loss: 4.4133 - val_regression_mae: 1.5831\n",
      "Epoch 43/60\n",
      "\u001b[1m45/45\u001b[0m \u001b[32m━━━━━━━━━━━━━━━━━━━━\u001b[0m\u001b[37m\u001b[0m \u001b[1m0s\u001b[0m 4ms/step - defect_accuracy: 0.9151 - defect_loss: 0.2874 - fungus_accuracy: 0.8508 - fungus_loss: 0.4224 - grade_accuracy: 0.8195 - grade_loss: 0.4007 - loss: 5.2551 - regression_loss: 4.1446 - regression_mae: 1.5053 - val_defect_accuracy: 0.8778 - val_defect_loss: 0.3622 - val_fungus_accuracy: 0.7833 - val_fungus_loss: 0.5208 - val_grade_accuracy: 0.6667 - val_grade_loss: 0.5041 - val_loss: 6.2668 - val_regression_loss: 4.6733 - val_regression_mae: 1.6056\n",
      "Epoch 44/60\n",
      "\u001b[1m45/45\u001b[0m \u001b[32m━━━━━━━━━━━━━━━━━━━━\u001b[0m\u001b[37m\u001b[0m \u001b[1m0s\u001b[0m 5ms/step - defect_accuracy: 0.8963 - defect_loss: 0.3379 - fungus_accuracy: 0.8471 - fungus_loss: 0.4324 - grade_accuracy: 0.7592 - grade_loss: 0.4593 - loss: 5.4156 - regression_loss: 4.1861 - regression_mae: 1.5016 - val_defect_accuracy: 0.8778 - val_defect_loss: 0.3702 - val_fungus_accuracy: 0.7833 - val_fungus_loss: 0.5149 - val_grade_accuracy: 0.7333 - val_grade_loss: 0.4792 - val_loss: 5.9112 - val_regression_loss: 4.3334 - val_regression_mae: 1.5575\n",
      "Epoch 45/60\n",
      "\u001b[1m45/45\u001b[0m \u001b[32m━━━━━━━━━━━━━━━━━━━━\u001b[0m\u001b[37m\u001b[0m \u001b[1m0s\u001b[0m 6ms/step - defect_accuracy: 0.8860 - defect_loss: 0.3670 - fungus_accuracy: 0.8188 - fungus_loss: 0.4795 - grade_accuracy: 0.7898 - grade_loss: 0.4275 - loss: 5.7483 - regression_loss: 4.4742 - regression_mae: 1.5434 - val_defect_accuracy: 0.8778 - val_defect_loss: 0.3622 - val_fungus_accuracy: 0.7833 - val_fungus_loss: 0.5334 - val_grade_accuracy: 0.7500 - val_grade_loss: 0.4549 - val_loss: 5.8172 - val_regression_loss: 4.2509 - val_regression_mae: 1.5488\n",
      "Epoch 46/60\n",
      "\u001b[1m45/45\u001b[0m \u001b[32m━━━━━━━━━━━━━━━━━━━━\u001b[0m\u001b[37m\u001b[0m \u001b[1m0s\u001b[0m 5ms/step - defect_accuracy: 0.9070 - defect_loss: 0.3190 - fungus_accuracy: 0.8640 - fungus_loss: 0.4004 - grade_accuracy: 0.8007 - grade_loss: 0.4182 - loss: 4.9075 - regression_loss: 3.7698 - regression_mae: 1.4484 - val_defect_accuracy: 0.8778 - val_defect_loss: 0.3678 - val_fungus_accuracy: 0.7833 - val_fungus_loss: 0.5053 - val_grade_accuracy: 0.7056 - val_grade_loss: 0.4832 - val_loss: 6.2237 - val_regression_loss: 4.6787 - val_regression_mae: 1.5897\n",
      "Epoch 47/60\n",
      "\u001b[1m45/45\u001b[0m \u001b[32m━━━━━━━━━━━━━━━━━━━━\u001b[0m\u001b[37m\u001b[0m \u001b[1m0s\u001b[0m 4ms/step - defect_accuracy: 0.8967 - defect_loss: 0.3385 - fungus_accuracy: 0.8610 - fungus_loss: 0.4161 - grade_accuracy: 0.7893 - grade_loss: 0.4304 - loss: 5.2221 - regression_loss: 4.0371 - regression_mae: 1.4832 - val_defect_accuracy: 0.8778 - val_defect_loss: 0.3830 - val_fungus_accuracy: 0.7833 - val_fungus_loss: 0.5222 - val_grade_accuracy: 0.7667 - val_grade_loss: 0.4676 - val_loss: 5.8846 - val_regression_loss: 4.3070 - val_regression_mae: 1.5483\n",
      "Epoch 48/60\n",
      "\u001b[1m45/45\u001b[0m \u001b[32m━━━━━━━━━━━━━━━━━━━━\u001b[0m\u001b[37m\u001b[0m \u001b[1m0s\u001b[0m 4ms/step - defect_accuracy: 0.8985 - defect_loss: 0.3430 - fungus_accuracy: 0.8524 - fungus_loss: 0.4229 - grade_accuracy: 0.7874 - grade_loss: 0.4502 - loss: 5.1277 - regression_loss: 3.9116 - regression_mae: 1.4586 - val_defect_accuracy: 0.8778 - val_defect_loss: 0.3622 - val_fungus_accuracy: 0.7833 - val_fungus_loss: 0.5197 - val_grade_accuracy: 0.7500 - val_grade_loss: 0.4676 - val_loss: 5.8205 - val_regression_loss: 4.2525 - val_regression_mae: 1.5537\n",
      "Epoch 49/60\n",
      "\u001b[1m45/45\u001b[0m \u001b[32m━━━━━━━━━━━━━━━━━━━━\u001b[0m\u001b[37m\u001b[0m \u001b[1m0s\u001b[0m 4ms/step - defect_accuracy: 0.8938 - defect_loss: 0.3480 - fungus_accuracy: 0.8309 - fungus_loss: 0.4610 - grade_accuracy: 0.8191 - grade_loss: 0.4187 - loss: 5.4773 - regression_loss: 4.2496 - regression_mae: 1.4980 - val_defect_accuracy: 0.8778 - val_defect_loss: 0.3658 - val_fungus_accuracy: 0.7833 - val_fungus_loss: 0.5417 - val_grade_accuracy: 0.7500 - val_grade_loss: 0.4549 - val_loss: 5.7152 - val_regression_loss: 4.1477 - val_regression_mae: 1.5260\n",
      "Epoch 50/60\n",
      "\u001b[1m45/45\u001b[0m \u001b[32m━━━━━━━━━━━━━━━━━━━━\u001b[0m\u001b[37m\u001b[0m \u001b[1m0s\u001b[0m 6ms/step - defect_accuracy: 0.8996 - defect_loss: 0.3342 - fungus_accuracy: 0.8462 - fungus_loss: 0.4360 - grade_accuracy: 0.7804 - grade_loss: 0.4521 - loss: 5.3580 - regression_loss: 4.1357 - regression_mae: 1.4962 - val_defect_accuracy: 0.8778 - val_defect_loss: 0.3620 - val_fungus_accuracy: 0.7833 - val_fungus_loss: 0.5062 - val_grade_accuracy: 0.7611 - val_grade_loss: 0.4734 - val_loss: 5.6977 - val_regression_loss: 4.1472 - val_regression_mae: 1.5390\n",
      "Epoch 51/60\n",
      "\u001b[1m45/45\u001b[0m \u001b[32m━━━━━━━━━━━━━━━━━━━━\u001b[0m\u001b[37m\u001b[0m \u001b[1m0s\u001b[0m 5ms/step - defect_accuracy: 0.9044 - defect_loss: 0.3170 - fungus_accuracy: 0.8413 - fungus_loss: 0.4387 - grade_accuracy: 0.7838 - grade_loss: 0.4369 - loss: 5.1302 - regression_loss: 3.9377 - regression_mae: 1.4805 - val_defect_accuracy: 0.8778 - val_defect_loss: 0.3852 - val_fungus_accuracy: 0.7833 - val_fungus_loss: 0.5055 - val_grade_accuracy: 0.7500 - val_grade_loss: 0.4639 - val_loss: 5.7914 - val_regression_loss: 4.2299 - val_regression_mae: 1.5632\n",
      "Epoch 52/60\n",
      "\u001b[1m45/45\u001b[0m \u001b[32m━━━━━━━━━━━━━━━━━━━━\u001b[0m\u001b[37m\u001b[0m \u001b[1m0s\u001b[0m 5ms/step - defect_accuracy: 0.8825 - defect_loss: 0.3820 - fungus_accuracy: 0.8500 - fungus_loss: 0.4260 - grade_accuracy: 0.8075 - grade_loss: 0.4406 - loss: 5.3557 - regression_loss: 4.1071 - regression_mae: 1.4896 - val_defect_accuracy: 0.8778 - val_defect_loss: 0.3638 - val_fungus_accuracy: 0.7833 - val_fungus_loss: 0.5350 - val_grade_accuracy: 0.7111 - val_grade_loss: 0.4794 - val_loss: 5.7228 - val_regression_loss: 4.1378 - val_regression_mae: 1.5338\n",
      "Epoch 53/60\n",
      "\u001b[1m45/45\u001b[0m \u001b[32m━━━━━━━━━━━━━━━━━━━━\u001b[0m\u001b[37m\u001b[0m \u001b[1m0s\u001b[0m 5ms/step - defect_accuracy: 0.8970 - defect_loss: 0.3407 - fungus_accuracy: 0.8403 - fungus_loss: 0.4425 - grade_accuracy: 0.7698 - grade_loss: 0.4492 - loss: 5.2970 - regression_loss: 4.0645 - regression_mae: 1.4825 - val_defect_accuracy: 0.8778 - val_defect_loss: 0.3630 - val_fungus_accuracy: 0.7833 - val_fungus_loss: 0.5306 - val_grade_accuracy: 0.7444 - val_grade_loss: 0.4497 - val_loss: 5.5455 - val_regression_loss: 3.9979 - val_regression_mae: 1.5074\n",
      "Epoch 54/60\n",
      "\u001b[1m45/45\u001b[0m \u001b[32m━━━━━━━━━━━━━━━━━━━━\u001b[0m\u001b[37m\u001b[0m \u001b[1m0s\u001b[0m 5ms/step - defect_accuracy: 0.8899 - defect_loss: 0.3565 - fungus_accuracy: 0.8338 - fungus_loss: 0.4566 - grade_accuracy: 0.7975 - grade_loss: 0.4297 - loss: 5.4757 - regression_loss: 4.2329 - regression_mae: 1.4970 - val_defect_accuracy: 0.8778 - val_defect_loss: 0.3600 - val_fungus_accuracy: 0.7833 - val_fungus_loss: 0.5355 - val_grade_accuracy: 0.7056 - val_grade_loss: 0.4663 - val_loss: 5.5089 - val_regression_loss: 3.9503 - val_regression_mae: 1.4924\n",
      "Epoch 55/60\n",
      "\u001b[1m45/45\u001b[0m \u001b[32m━━━━━━━━━━━━━━━━━━━━\u001b[0m\u001b[37m\u001b[0m \u001b[1m0s\u001b[0m 5ms/step - defect_accuracy: 0.8988 - defect_loss: 0.3343 - fungus_accuracy: 0.8697 - fungus_loss: 0.3909 - grade_accuracy: 0.7751 - grade_loss: 0.4447 - loss: 4.7885 - regression_loss: 3.6187 - regression_mae: 1.4191 - val_defect_accuracy: 0.8778 - val_defect_loss: 0.3648 - val_fungus_accuracy: 0.7833 - val_fungus_loss: 0.5208 - val_grade_accuracy: 0.7278 - val_grade_loss: 0.4720 - val_loss: 5.8747 - val_regression_loss: 4.3263 - val_regression_mae: 1.5680\n",
      "Epoch 56/60\n",
      "\u001b[1m45/45\u001b[0m \u001b[32m━━━━━━━━━━━━━━━━━━━━\u001b[0m\u001b[37m\u001b[0m \u001b[1m0s\u001b[0m 5ms/step - defect_accuracy: 0.8980 - defect_loss: 0.3373 - fungus_accuracy: 0.8245 - fungus_loss: 0.4720 - grade_accuracy: 0.8079 - grade_loss: 0.4092 - loss: 5.2634 - regression_loss: 4.0448 - regression_mae: 1.4746 - val_defect_accuracy: 0.8778 - val_defect_loss: 0.3585 - val_fungus_accuracy: 0.7833 - val_fungus_loss: 0.5308 - val_grade_accuracy: 0.7500 - val_grade_loss: 0.4529 - val_loss: 5.5379 - val_regression_loss: 4.0210 - val_regression_mae: 1.5091\n",
      "Epoch 57/60\n",
      "\u001b[1m45/45\u001b[0m \u001b[32m━━━━━━━━━━━━━━━━━━━━\u001b[0m\u001b[37m\u001b[0m \u001b[1m0s\u001b[0m 5ms/step - defect_accuracy: 0.8858 - defect_loss: 0.3573 - fungus_accuracy: 0.8430 - fungus_loss: 0.4388 - grade_accuracy: 0.7992 - grade_loss: 0.4489 - loss: 4.9520 - regression_loss: 3.7070 - regression_mae: 1.4073 - val_defect_accuracy: 0.8778 - val_defect_loss: 0.3770 - val_fungus_accuracy: 0.7833 - val_fungus_loss: 0.5061 - val_grade_accuracy: 0.6889 - val_grade_loss: 0.5443 - val_loss: 5.5503 - val_regression_loss: 3.9267 - val_regression_mae: 1.4817\n",
      "Epoch 58/60\n",
      "\u001b[1m45/45\u001b[0m \u001b[32m━━━━━━━━━━━━━━━━━━━━\u001b[0m\u001b[37m\u001b[0m \u001b[1m0s\u001b[0m 5ms/step - defect_accuracy: 0.9083 - defect_loss: 0.3119 - fungus_accuracy: 0.8621 - fungus_loss: 0.4108 - grade_accuracy: 0.7923 - grade_loss: 0.4303 - loss: 4.9940 - regression_loss: 3.8410 - regression_mae: 1.4632 - val_defect_accuracy: 0.8778 - val_defect_loss: 0.3595 - val_fungus_accuracy: 0.7833 - val_fungus_loss: 0.5059 - val_grade_accuracy: 0.7389 - val_grade_loss: 0.4693 - val_loss: 5.5678 - val_regression_loss: 4.0401 - val_regression_mae: 1.5139\n",
      "Epoch 59/60\n",
      "\u001b[1m45/45\u001b[0m \u001b[32m━━━━━━━━━━━━━━━━━━━━\u001b[0m\u001b[37m\u001b[0m \u001b[1m0s\u001b[0m 5ms/step - defect_accuracy: 0.9008 - defect_loss: 0.3270 - fungus_accuracy: 0.8463 - fungus_loss: 0.4334 - grade_accuracy: 0.7817 - grade_loss: 0.4296 - loss: 4.9914 - regression_loss: 3.8014 - regression_mae: 1.4431 - val_defect_accuracy: 0.8778 - val_defect_loss: 0.3570 - val_fungus_accuracy: 0.7833 - val_fungus_loss: 0.5133 - val_grade_accuracy: 0.7556 - val_grade_loss: 0.4869 - val_loss: 5.6021 - val_regression_loss: 4.0569 - val_regression_mae: 1.5196\n",
      "Epoch 60/60\n",
      "\u001b[1m45/45\u001b[0m \u001b[32m━━━━━━━━━━━━━━━━━━━━\u001b[0m\u001b[37m\u001b[0m \u001b[1m0s\u001b[0m 5ms/step - defect_accuracy: 0.9031 - defect_loss: 0.3165 - fungus_accuracy: 0.8406 - fungus_loss: 0.4397 - grade_accuracy: 0.8140 - grade_loss: 0.4294 - loss: 4.8649 - regression_loss: 3.6792 - regression_mae: 1.3960 - val_defect_accuracy: 0.8778 - val_defect_loss: 0.3613 - val_fungus_accuracy: 0.7833 - val_fungus_loss: 0.5505 - val_grade_accuracy: 0.7500 - val_grade_loss: 0.4515 - val_loss: 5.3488 - val_regression_loss: 3.7981 - val_regression_mae: 1.4666\n"
     ]
    },
    {
     "data": {
      "image/png": "[encoded data removed]",
      "text/plain": [
       "<Figure size 640x480 with 1 Axes>"
      ]
     },
     "metadata": {},
     "output_type": "display_data"
    }
   ],
   "source": [
    "history = model.fit(\n",
    "    X_train, [y_reg_train, y_grade_train, y_def_train, y_fun_train],\n",
    "    validation_data=(X_test, [y_reg_test, y_grade_test, y_def_test, y_fun_test]),\n",
    "    epochs=60, batch_size=16\n",
    ")\n",
    "plt.figure()\n",
    "plt.plot(history.history['regression_loss'], label='Reg Loss')\n",
    "plt.plot(history.history['val_regression_loss'], label='Val Reg Loss')\n",
    "plt.title('Regression Loss')\n",
    "plt.xlabel('Epoch')\n",
    "plt.legend()\n",
    "plt.show()"
   ]
  },
  {
   "cell_type": "code",
   "execution_count": 8,
   "id": "27aea572",
   "metadata": {},
   "outputs": [
    {
     "data": {
      "image/png": "[encoded data removed]",
      "text/plain": [
       "<Figure size 640x480 with 1 Axes>"
      ]
     },
     "metadata": {},
     "output_type": "display_data"
    }
   ],
   "source": [
    "plt.figure()\n",
    "plt.plot(history.history['grade_accuracy'], label='Grade Acc')\n",
    "plt.plot(history.history['defect_accuracy'], label='Defect Acc')\n",
    "plt.plot(history.history['fungus_accuracy'], label='Fungus Acc')\n",
    "plt.title('Classification Accuracy')\n",
    "plt.xlabel('Epoch')\n",
    "plt.legend()\n",
    "plt.show()"
   ]
  },
  {
   "cell_type": "markdown",
   "id": "443ce41f",
   "metadata": {},
   "source": [
    "##6 test thủ công số liệu"
   ]
  },
  {
   "cell_type": "code",
   "execution_count": 26,
   "id": "81d6e2c1",
   "metadata": {},
   "outputs": [
    {
     "name": "stdout",
     "output_type": "stream",
     "text": [
      "\u001b[1m1/1\u001b[0m \u001b[32m━━━━━━━━━━━━━━━━━━━━\u001b[0m\u001b[37m\u001b[0m \u001b[1m0s\u001b[0m 103ms/step\n",
      "🎯 Inference Result for Manual Input\n",
      "────────────────────────────────────────────\n",
      "📌 Predicted Brix (°Bx):      14.88\n",
      "📌 Predicted Ripeness:        6.81/10\n",
      "📌 Predicted Moisture (%):    67.68\n",
      "\n",
      "🏷️ Grade Prediction:          A → Confidence: 81.86%\n",
      "⚠️ Internal Defect:           No → Confidence: 11.31%\n",
      "🍄 Fungus Infection:          No → Confidence: 14.12%\n",
      "\u001b[1m1/1\u001b[0m \u001b[32m━━━━━━━━━━━━━━━━━━━━\u001b[0m\u001b[37m\u001b[0m \u001b[1m0s\u001b[0m 108ms/step\n"
     ]
    },
    {
     "data": {
      "image/png": "[encoded data removed]",
      "text/plain": [
       "<Figure size 1000x300 with 2 Axes>"
      ]
     },
     "metadata": {},
     "output_type": "display_data"
    }
   ],
   "source": [
    "\n",
    "\n",
    "# 📥 Nhập thủ công vector NIR + one-hot fruit\n",
    "manual_input = np.array([[ \n",
    "    0.43,  # 610nm\n",
    "    0.48,  # 680nm\n",
    "    0.52,  # 730nm\n",
    "    0.46,  # 760nm\n",
    "    0.72,  # 810nm\n",
    "    0.40,  # 860nm\n",
    "    0,     # fruit_apple\n",
    "    0,     # fruit_mango\n",
    "    1      # fruit_banana\n",
    "]])\n",
    "\n",
    "# ✅ Reshape để phù hợp input shape (batch_size, 9, 1)\n",
    "manual_input = manual_input.reshape((1, 9, 1))\n",
    "\n",
    "# 🚀 Dự đoán từ model\n",
    "pred_reg, pred_grade, pred_defect, pred_fungus = model.predict(manual_input)\n",
    "\n",
    "# 🧾 In kết quả rõ ràng\n",
    "grade_map = {0: 'A', 1: 'B', 2: 'C'}\n",
    "\n",
    "print(\"🎯 Inference Result for Manual Input\")\n",
    "print(\"────────────────────────────────────────────\")\n",
    "print(f\"📌 Predicted Brix (°Bx):      {pred_reg[0][0]:.2f}\")\n",
    "print(f\"📌 Predicted Ripeness:        {pred_reg[0][1]:.2f}/10\")\n",
    "print(f\"📌 Predicted Moisture (%):    {pred_reg[0][2]:.2f}\")\n",
    "print()\n",
    "print(f\"🏷️ Grade Prediction:          {grade_map[np.argmax(pred_grade[0])]} → Confidence: {np.max(pred_grade[0]):.2%}\")\n",
    "print(f\"⚠️ Internal Defect:           {'Yes' if pred_defect[0][0] > 0.5 else 'No'} → Confidence: {pred_defect[0][0]:.2%}\")\n",
    "print(f\"🍄 Fungus Infection:          {'Yes' if pred_fungus[0][0] > 0.5 else 'No'} → Confidence: {pred_fungus[0][0]:.2%}\")\n",
    "\n",
    "\n",
    "\n",
    "\n",
    "# ⚙️ Dùng layer Conv1D đầu tiên làm feature extractor\n",
    "feature_extractor = Model(inputs=model.input, outputs=model.get_layer('conv1d').output)\n",
    "X_all = X_scaled.reshape(-1, 9, 1)\n",
    "\n",
    "# 🧪 Lấy 1 sample bất kỳ từ X_all (đã gồm 6 bước sóng + 3 fruit = 9 đặc trưng)\n",
    "sample = X_all[0:1]  # shape: (1, 9, 1)\n",
    "\n",
    "# 🚀 Dự đoán đặc trưng từ Conv1D\n",
    "features = feature_extractor.predict(sample)\n",
    "\n",
    "# 📊 Vẽ heatmap biểu diễn đặc trưng trích xuất\n",
    "import seaborn as sns\n",
    "import matplotlib.pyplot as plt\n",
    "\n",
    "plt.figure(figsize=(10, 3))\n",
    "sns.heatmap(features[0].T, cmap='viridis', xticklabels=range(features.shape[1]))\n",
    "plt.title(\"Activation Map từ Conv1D (1 sample)\")\n",
    "plt.xlabel(\"Vị trí đặc trưng (sau kernel)\")\n",
    "plt.ylabel(\"Filter (bộ lọc)\")\n",
    "plt.tight_layout()\n",
    "plt.show()\n"
   ]
  },
  {
   "cell_type": "markdown",
   "id": "a8215e15",
   "metadata": {},
   "source": [
    "## 7. Evaluate & Save Model"
   ]
  },
  {
   "cell_type": "code",
   "execution_count": 24,
   "id": "f8eee004",
   "metadata": {},
   "outputs": [
    {
     "name": "stdout",
     "output_type": "stream",
     "text": [
      "\u001b[1m6/6\u001b[0m \u001b[32m━━━━━━━━━━━━━━━━━━━━\u001b[0m\u001b[37m\u001b[0m \u001b[1m0s\u001b[0m 8ms/step - defect_accuracy: 0.8779 - defect_loss: 0.3794 - fungus_accuracy: 0.7845 - fungus_loss: 0.6294 - grade_accuracy: 0.7450 - grade_loss: 0.4436 - loss: 5.0199 - regression_loss: 3.5665 - regression_mae: 1.4132 \n"
     ]
    },
    {
     "name": "stderr",
     "output_type": "stream",
     "text": [
      "WARNING:absl:You are saving your model as an HDF5 file via `model.save()` or `keras.saving.save_model(model)`. This file format is considered legacy. We recommend using instead the native Keras format, e.g. `model.save('my_model.keras')` or `keras.saving.save_model(model, 'my_model.keras')`. \n"
     ]
    },
    {
     "name": "stdout",
     "output_type": "stream",
     "text": [
      "Saved as nir_model_v3.h5\n"
     ]
    }
   ],
   "source": [
    "model.evaluate(X_test, [y_reg_test, y_grade_test, y_def_test, y_fun_test])\n",
    "model.save('nir_model_v3.h5')\n",
    "print('Saved as nir_model_v3.h5')"
   ]
  }
 ],
 "metadata": {
  "kernelspec": {
   "display_name": "venv",
   "language": "python",
   "name": "python3"
  },
  "language_info": {
   "codemirror_mode": {
    "name": "ipython",
    "version": 3
   },
   "file_extension": ".py",
   "mimetype": "text/x-python",
   "name": "python",
   "nbconvert_exporter": "python",
   "pygments_lexer": "ipython3",
   "version": "3.11.9"
  }
 },
 "nbformat": 4,
 "nbformat_minor": 5
}
